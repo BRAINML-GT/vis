{
 "cells": [
  {
   "cell_type": "markdown",
   "metadata": {},
   "source": [
    "# Tutorial on A Toy Mixture Model"
   ]
  },
  {
   "cell_type": "code",
   "execution_count": 1,
   "metadata": {},
   "outputs": [],
   "source": [
    "import numpy as np\n",
    "import matplotlib.pyplot as plt\n",
    "import pandas as pd\n",
    "\n",
    "import torch\n",
    "import torch.nn as nn\n",
    "import torch.nn.functional as F"
   ]
  },
  {
   "cell_type": "markdown",
   "metadata": {},
   "source": [
    "## 1 Define the generative model $p(x,z;\\theta)$ and the variational/proposal model $q(z|x;\\phi)$\n",
    "\n",
    "Consider the generative model $p(z;\\theta) = \\sum_{i=1}^4\\ \\mathcal N(z;\\mu_i,1^2)$ with $\\pi_1=\\pi_2 = \\frac{1-\\pi}{2},\\ \\pi_3 = \\pi_4 = \\frac{\\pi}{2}$; and $p(x|z;\\theta) = \\operatorname{Bern}(x;\\operatorname{sigmoid}(z))$. The parameter set is $\\theta = \\{\\pi\\}\\cup\\{\\mu_i\\}_{i=1}^4$, the latent variable is $z\\in\\mathbb R$, and the observed variable is $x\\in\\{0,1\\}$."
   ]
  },
  {
   "cell_type": "code",
   "execution_count": 6,
   "metadata": {},
   "outputs": [],
   "source": [
    "class GMM4Bernoulli(nn.Module):\n",
    "    def __init__(self, pi: torch.FloatTensor, mu: torch.FloatTensor) -> None:\n",
    "        super().__init__()\n",
    "        self.pi = nn.Parameter(pi.clone().detach())\n",
    "        self.mu = nn.Parameter(mu.clone().detach())\n",
    "\n",
    "    def sample(self, n_samples: int) -> tuple:\n",
    "        with torch.no_grad():\n",
    "            weights = torch.tensor([0.5*(1-self.pi), 0.5*(1-self.pi), 0.5*self.pi, 0.5*self.pi])\n",
    "            zz_list = torch.multinomial(weights, n_samples, replacement=True)\n",
    "            z_list = torch.normal(self.mu[zz_list], 1.0)\n",
    "            x_list = torch.bernoulli(torch.sigmoid(z_list))\n",
    "        return z_list, x_list\n",
    "    \n",
    "    def log_pz(self, z_list: torch.FloatTensor) -> torch.Tensor:\n",
    "        weights = [0.5*(1-self.pi), 0.5*(1-self.pi), 0.5*self.pi, 0.5*self.pi]\n",
    "        components_log_likelihood = torch.zeros((4, z_list.shape[0]))\n",
    "        for i in range(4):\n",
    "            components_log_likelihood[i] = weights[i].log() - F.gaussian_nll_loss(self.mu[i], z_list, torch.tensor(1.), full=True, reduction='none')\n",
    "        ln_pz_list = torch.logsumexp(components_log_likelihood, dim=0)\n",
    "        return ln_pz_list\n",
    "\n",
    "    def log_pxgz(self, z_list: torch.FloatTensor, x_list: torch.FloatTensor) -> torch.Tensor:\n",
    "        p = torch.sigmoid(z_list)\n",
    "        if len(x_list.shape) == 0:\n",
    "            x_list = x_list.expand(z_list.shape[0])\n",
    "        ln_pxgz_list = -F.binary_cross_entropy(p, x_list, reduction='none')\n",
    "        return ln_pxgz_list\n",
    "\n",
    "    def complete_log_likelihood(self, z_list: torch.FloatTensor, x_list: torch.FloatTensor) -> torch.Tensor:\n",
    "        return self.log_pz(z_list) + self.log_pxgz(z_list, x_list)"
   ]
  },
  {
   "cell_type": "markdown",
   "metadata": {},
   "source": [
    "Choosing the variational/proposal distribution family as $q(z|x;\\phi) = \\mathcal N(z;c_x,\\sigma_x^2)$ for $x\\in\\{0,1\\}$, and the variational/proposal parameter set is $\\phi = \\{c_0,c_1,\\sigma_0,\\sigma_1\\}$."
   ]
  },
  {
   "cell_type": "code",
   "execution_count": 7,
   "metadata": {},
   "outputs": [],
   "source": [
    "class Post2Gaussian(nn.Module):\n",
    "    def __init__(self, mu: torch.FloatTensor, sigma: torch.FloatTensor) -> None:\n",
    "        super().__init__()\n",
    "        self.mu = nn.Parameter(mu.clone().detach())\n",
    "        self.sigma = nn.Parameter(sigma.clone().detach())\n",
    "    \n",
    "    def sample(self, x: torch.FloatTensor, n_samples: int):\n",
    "        # with torch.no_grad():\n",
    "        #     if x == 0:\n",
    "        #         z_list = torch.normal(self.mu[0].item(), self.sigma[0].item(), size=(n_samples,))\n",
    "        #     else:\n",
    "        #         z_list = torch.normal(self.mu[1].item(), self.sigma[1].item(), size=(n_samples,))\n",
    "        z_list = torch.normal(0, 1, size=(n_samples,)) * self.sigma[int(x)].abs() + self.mu[int(x)]\n",
    "        return z_list\n",
    "    \n",
    "    def hid_log_likelihood(self, z_list: torch.FloatTensor, x: torch.FloatTensor) -> torch.FloatTensor:\n",
    "        if x == 0:\n",
    "            return -F.gaussian_nll_loss(self.mu[0], z_list, self.sigma[0]**2, full=True, reduction='none')\n",
    "        else:\n",
    "            return -F.gaussian_nll_loss(self.mu[1], z_list, self.sigma[1]**2, full=True, reduction='none')"
   ]
  },
  {
   "cell_type": "markdown",
   "metadata": {},
   "source": [
    "## 2 Write functions for different methods"
   ]
  },
  {
   "cell_type": "code",
   "execution_count": 8,
   "metadata": {},
   "outputs": [],
   "source": [
    "def elbo(ln_p_list: torch.FloatTensor, ln_q_list: torch.FloatTensor, grad: str) -> torch.FloatTensor:\n",
    "    \"\"\"ELBO with score gradients well prepared. Only for score.\n",
    "    \"\"\"\n",
    "    \n",
    "    if grad == 'score':\n",
    "        ln_p_list_values = ln_p_list.detach().clone()\n",
    "        ln_q_list_values = ln_q_list.detach().clone()\n",
    "        elbo_values = ln_p_list_values - ln_q_list_values\n",
    "        return torch.mean(ln_p_list - ln_p_list_values + elbo_values * (ln_q_list - ln_q_list_values) + elbo_values)\n",
    "    elif grad == 'pathwise':\n",
    "        return (ln_p_list - ln_q_list).mean()\n",
    "    else:\n",
    "        raise ValueError('grad parameter is not in [score | pathwise].')\n",
    "\n",
    "\n",
    "def marginal_log_likelihood(ln_p_list: torch.FloatTensor, ln_q_list: torch.FloatTensor) -> torch.FloatTensor:\n",
    "    return torch.logsumexp(ln_p_list - ln_q_list, dim=0) - np.log(ln_q_list.shape[0])\n",
    "\n",
    "\n",
    "def log_V(ln_p_list: torch.FloatTensor, ln_q_list: torch.FloatTensor, grad: str) -> torch.FloatTensor:\n",
    "    \"\"\"Optimize the variational distribution by minimizing the forward chi^2 divergence. For both score and pathwise.\n",
    "    \"\"\"\n",
    "    \n",
    "    result = torch.logsumexp(2*(ln_p_list - ln_q_list), dim=0) - np.log(ln_q_list.shape[0])\n",
    "    if grad == 'score':\n",
    "        return 1/2 * result + 1/2 * result.detach().clone()\n",
    "    elif grad == 'pathwise':\n",
    "        return result\n",
    "\n",
    "\n",
    "def variational_importance_sampling(\n",
    "        inf_model,\n",
    "        vari_model,\n",
    "        inf_optimizer: torch.optim.Optimizer,\n",
    "        vari_optimizer: torch.optim.Optimizer,\n",
    "        x_list: torch.FloatTensor,\n",
    "        n_epochs: int = 1000,\n",
    "        n_monte_carlo: int = 1000,\n",
    "        batch_size: int = 20,\n",
    "        grad: str = 'score',\n",
    "        update: str = 'ELBO',\n",
    "        divergence: str = 'chi^2',\n",
    "        print_freq: int = 100) -> torch.FloatTensor:\n",
    "    \n",
    "    n_samples = len(x_list)\n",
    "    n_batches = int(n_samples / batch_size)\n",
    "    \n",
    "    epoch_loss_list = torch.zeros(2, n_epochs)\n",
    "\n",
    "    record_mu = np.zeros((4, n_epochs + 1))\n",
    "    record_pi = np.zeros(n_epochs + 1)\n",
    "    record_mu[:, 0] = inf_model.mu.detach().numpy()\n",
    "    record_pi[0] = inf_model.pi.item()\n",
    "\n",
    "    for epoch in range(n_epochs):\n",
    "        for batch in range(n_batches):\n",
    "            batch_loss = 0\n",
    "            z_list_list = [None for i in range(batch_size)]\n",
    "            ln_q_list_list = torch.zeros((batch_size, n_monte_carlo))\n",
    "\n",
    "            for sample in range(batch*batch_size, (batch+1)*batch_size):\n",
    "                x = x_list[sample]\n",
    "                \n",
    "                # prepare sample for updating q\n",
    "                if grad == 'score':\n",
    "                    with torch.no_grad():\n",
    "                        z_list = vari_model.sample(x, n_samples=n_monte_carlo)\n",
    "                elif grad == 'pathwise':\n",
    "                    z_list = vari_model.sample(x, n_samples=n_monte_carlo)\n",
    "                ln_q_list = vari_model.hid_log_likelihood(z_list, x)\n",
    "                z_list_list[sample - batch*batch_size] = z_list\n",
    "                ln_q_list_list[sample - batch*batch_size] = ln_q_list\n",
    "                \n",
    "                # update p\n",
    "                ln_p_list = inf_model.complete_log_likelihood(z_list.detach(), x)\n",
    "                if update == 'ELBO':\n",
    "                    batch_loss -= (ln_p_list - ln_q_list.detach()).mean()\n",
    "                elif update == 'marginal':\n",
    "                    batch_loss -= marginal_log_likelihood(ln_p_list, ln_q_list.detach())\n",
    "                    \n",
    "            batch_loss /= batch_size\n",
    "            batch_loss.backward()\n",
    "            inf_optimizer.step()\n",
    "            inf_optimizer.zero_grad()\n",
    "\n",
    "            with torch.no_grad():\n",
    "                inf_model.pi.clamp_(min=0.01, max=0.99)\n",
    "            \n",
    "            epoch_loss_list[0, epoch] += batch_loss.item()\n",
    "\n",
    "            # update q\n",
    "            batch_loss = 0\n",
    "            for sample in range(batch*batch_size, (batch+1)*batch_size):\n",
    "                i = sample - batch*batch_size\n",
    "\n",
    "                ln_p_list = inf_model.complete_log_likelihood(z_list_list[i], x_list[sample])\n",
    "                if divergence == 'RKL':\n",
    "                    batch_loss -= elbo(ln_p_list, ln_q_list_list[i], grad)\n",
    "                elif divergence == 'chi^2':\n",
    "                    batch_loss += log_V(ln_p_list, ln_q_list_list[i], grad)\n",
    "                elif divergence == 'sandwich':\n",
    "                    batch_loss += -0.5 * elbo(ln_p_list, ln_q_list_list[i], grad) + 0.5 * log_V(ln_p_list, ln_q_list_list[i], grad)\n",
    "            \n",
    "            batch_loss /= batch_size\n",
    "            batch_loss.backward()\n",
    "            vari_optimizer.step()\n",
    "            inf_optimizer.zero_grad()\n",
    "            vari_optimizer.zero_grad()\n",
    "\n",
    "            epoch_loss_list[1, epoch] += batch_loss.item()\n",
    "            \n",
    "        epoch_loss_list[:, epoch] /= n_batches\n",
    "        if epoch % print_freq == 0:\n",
    "            print(epoch, epoch_loss_list[:, epoch], flush=True)\n",
    "        record_mu[:, epoch + 1] = inf_model.mu.detach().numpy()\n",
    "        record_pi[epoch + 1] = inf_model.pi.item()\n",
    "    return epoch_loss_list, record_mu, record_pi"
   ]
  },
  {
   "cell_type": "markdown",
   "metadata": {},
   "source": [
    "## 3 Run VI or VIS on this model"
   ]
  },
  {
   "cell_type": "code",
   "execution_count": null,
   "metadata": {},
   "outputs": [],
   "source": [
    "## Define the model and generate the data\n",
    "\n",
    "torch.manual_seed(0)\n",
    "pi = torch.tensor(0.7)\n",
    "mu_list = torch.tensor([-8, -2, 2, 8.])\n",
    "n_samples = 1000\n",
    "gen_model = GMM4Bernoulli(pi, mu_list) # generative model\n",
    "z_list_train, x_list_train = gen_model.sample(n_samples) # generate hidden and observed training data\n",
    "z_list_test, x_list_test = gen_model.sample(n_samples) # generate hidden and observed test data\n",
    "n_epochs = 200\n",
    "print_freq = 10\n",
    "n_monte_carlo = 5000\n",
    "n_batches = 10\n",
    "batch_size = int(n_samples / n_batches)\n",
    "grad = 'score'"
   ]
  },
  {
   "cell_type": "code",
   "execution_count": 9,
   "metadata": {},
   "outputs": [],
   "source": [
    "## specify the method and random seed\n",
    "\n",
    "method = 'VI' # ['VI' | 'CHIVI' | 'VBIS' | 'VIS']\n",
    "seed = 0"
   ]
  },
  {
   "cell_type": "code",
   "execution_count": 10,
   "metadata": {},
   "outputs": [
    {
     "name": "stdout",
     "output_type": "stream",
     "text": [
      "0 tensor([1.3809, 1.3797])\n",
      "10 tensor([1.3351, 1.3350])\n",
      "20 tensor([1.3342, 1.3342])\n",
      "30 tensor([1.3339, 1.3339])\n",
      "40 tensor([1.3332, 1.3331])\n",
      "50 tensor([1.3301, 1.3300])\n",
      "60 tensor([1.3048, 1.3043])\n",
      "70 tensor([1.0911, 1.0897])\n",
      "80 tensor([0.8480, 0.8471])\n",
      "90 tensor([0.7363, 0.7359])\n",
      "100 tensor([0.6867, 0.6865])\n",
      "110 tensor([0.6646, 0.6645])\n",
      "120 tensor([0.6552, 0.6551])\n",
      "130 tensor([0.6508, 0.6507])\n",
      "140 tensor([0.6485, 0.6485])\n",
      "150 tensor([0.6474, 0.6474])\n",
      "160 tensor([0.6467, 0.6467])\n",
      "170 tensor([0.6463, 0.6463])\n",
      "180 tensor([0.6460, 0.6460])\n",
      "190 tensor([0.6458, 0.6458])\n"
     ]
    }
   ],
   "source": [
    "## run method\n",
    "\n",
    "torch.manual_seed(seed)\n",
    "inf_model = GMM4Bernoulli(torch.tensor(0.5), torch.tensor([-9, -1, 1, 9.]))\n",
    "vari_model = Post2Gaussian(torch.tensor([-9, 9.]), torch.tensor([1, 1.]))\n",
    "\n",
    "inf_optimizer = torch.optim.Adam(inf_model.parameters(), lr=0.002)\n",
    "vari_optimizer = torch.optim.Adam(vari_model.parameters(), lr=0.002)\n",
    "\n",
    "\n",
    "if method == 'VI':\n",
    "    update, divergence = 'ELBO', 'RKL'\n",
    "elif method == 'CHIVI':\n",
    "    update, divergence = 'ELBO', 'sandwich'\n",
    "elif method == 'VBIS':\n",
    "    update, divergence = 'marginal', 'RKL'\n",
    "elif method == 'VIS':\n",
    "    update, divergence = 'marginal', 'chi^2'\n",
    "\n",
    "__, record_mu, record_pi = variational_importance_sampling(inf_model, vari_model, inf_optimizer, vari_optimizer, x_list_train, n_epochs, n_monte_carlo, batch_size, grad, update, divergence, print_freq)"
   ]
  },
  {
   "cell_type": "code",
   "execution_count": 14,
   "metadata": {},
   "outputs": [
    {
     "data": {
      "text/plain": [
       "Text(0.5, 0.98, 'VI')"
      ]
     },
     "execution_count": 14,
     "metadata": {},
     "output_type": "execute_result"
    },
    {
     "data": {
      "image/png": "[encoded data removed]",
      "text/plain": [
       "<Figure size 1200x400 with 2 Axes>"
      ]
     },
     "metadata": {},
     "output_type": "display_data"
    }
   ],
   "source": [
    "## plot the parameter convergence curve\n",
    "\n",
    "fig, axs = plt.subplots(1, 2, figsize=(12, 4), layout='constrained')\n",
    "for j in range(4):\n",
    "    axs[0].plot(range(n_epochs + 1), record_mu[j], c=f'C{j}', label=f'$\\\\mu_{j+1}$')\n",
    "    axs[0].plot([0, n_epochs], [mu_list[j], mu_list[j]], c=f'C{j}', linestyle='--')\n",
    "axs[0].set_ylabel('$\\mu$')\n",
    "\n",
    "axs[1].plot(range(n_epochs + 1), record_pi, 'k', label=\"$\\\\pi$\")\n",
    "axs[1].plot([0, n_epochs], [0.7, 0.7], 'k--')\n",
    "axs[1].set_ylabel('$\\pi$')\n",
    "\n",
    "fig.suptitle(method)"
   ]
  },
  {
   "cell_type": "markdown",
   "metadata": {},
   "source": []
  }
 ],
 "metadata": {
  "kernelspec": {
   "display_name": "base",
   "language": "python",
   "name": "python3"
  },
  "language_info": {
   "codemirror_mode": {
    "name": "ipython",
    "version": 3
   },
   "file_extension": ".py",
   "mimetype": "text/x-python",
   "name": "python",
   "nbconvert_exporter": "python",
   "pygments_lexer": "ipython3",
   "version": "3.9.18"
  }
 },
 "nbformat": 4,
 "nbformat_minor": 2
}
