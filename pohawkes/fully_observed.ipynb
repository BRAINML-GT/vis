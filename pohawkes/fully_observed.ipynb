{
 "cells": [
  {
   "cell_type": "code",
   "execution_count": null,
   "id": "231bcc24",
   "metadata": {},
   "outputs": [],
   "source": [
    "import numpy as np\n",
    "import matplotlib.pyplot as plt\n",
    "from mpl_toolkits.axes_grid1.axes_divider import make_axes_locatable\n",
    "import pandas as pd\n",
    "import seaborn as sns\n",
    "import torch\n",
    "import torch.nn as nn\n",
    "import torch.nn.functional as F\n",
    "\n",
    "import model, utils, inference\n",
    "\n",
    "from importlib import reload\n",
    "reload(model)"
   ]
  },
  {
   "cell_type": "code",
   "execution_count": null,
   "id": "45d24d14",
   "metadata": {},
   "outputs": [],
   "source": [
    "from torch.utils.data import TensorDataset, DataLoader\n",
    "\n",
    "decay = 5\n",
    "dt = 0.05\n",
    "window_size = 5\n",
    "n_neurons = 5\n",
    "n_vis_neurons = 3\n",
    "basis = utils.exp_basis(decay, window_size, dt*window_size)\n",
    "T = 5"
   ]
  },
  {
   "cell_type": "code",
   "execution_count": null,
   "id": "82639ba0",
   "metadata": {},
   "outputs": [],
   "source": [
    "trial = 0\n",
    "\n",
    "df = pd.read_pickle('data.pkl')\n",
    "\n",
    "spikes_list_train = df.at[trial, 'spikes_list_train']\n",
    "convolved_spikes_list_train = df.at[trial, 'convolved_spikes_list_train']\n",
    "\n",
    "train_dataset = TensorDataset(spikes_list_train, convolved_spikes_list_train)\n",
    "train_dataloader = DataLoader(train_dataset, batch_size=10, shuffle=False)\n",
    "\n",
    "inf_model = model.POGLM(n_neurons, n_vis_neurons, basis)\n",
    "with torch.no_grad():\n",
    "    inf_model.linear.weight.data = torch.zeros((n_neurons, n_neurons))\n",
    "    inf_model.linear.bias.data = torch.zeros((n_neurons, ))\n",
    "    \n",
    "inf_optimizer = torch.optim.Adam(inf_model.parameters())"
   ]
  },
  {
   "cell_type": "code",
   "execution_count": null,
   "id": "279ab158",
   "metadata": {},
   "outputs": [],
   "source": [
    "n_epochs = 1000\n",
    "print_freq = 100\n",
    "\n",
    "epoch_loss_list = torch.zeros(n_epochs)\n",
    "\n",
    "for epoch in range(n_epochs):\n",
    "    for spikes_list, convolved_spikes_list in train_dataloader:\n",
    "        batch_size = spikes_list.shape[0]\n",
    "        loss = 0\n",
    "        for sample in range(batch_size):\n",
    "            spikes = spikes_list[sample]\n",
    "            convolved_spikes = convolved_spikes_list[sample]\n",
    "            \n",
    "            hid_spikes_list = spikes[None, :, n_vis_neurons:]\n",
    "            convolved_hid_spikes_list = convolved_spikes[None, :, n_vis_neurons:]\n",
    "            vis_spikes = spikes[:, :n_vis_neurons]\n",
    "            convolved_vis_spikes = convolved_spikes[:, :n_vis_neurons]\n",
    "            loss -= inf_model.complete_log_likelihood(hid_spikes_list, convolved_hid_spikes_list, vis_spikes, convolved_vis_spikes)[0]\n",
    "        \n",
    "        loss /= batch_size\n",
    "        loss.backward()\n",
    "        inf_optimizer.step()\n",
    "        inf_optimizer.zero_grad()\n",
    "        \n",
    "        epoch_loss_list[epoch] += loss.item()\n",
    "    \n",
    "    if epoch % print_freq == 0:\n",
    "        with torch.no_grad():\n",
    "            print(epoch, epoch_loss_list[epoch],\n",
    "                  (data.at[trial, 'gen_model']['linear.weight'] - inf_model.linear.weight.data).abs().mean(),\n",
    "                  (data.at[trial, 'gen_model']['linear.bias'] - inf_model.linear.bias.data).abs().mean(),\n",
    "                  flush=True)"
   ]
  },
  {
   "cell_type": "code",
   "execution_count": null,
   "id": "62ceefe9",
   "metadata": {},
   "outputs": [],
   "source": [
    "plt.matshow(data.at[trial, 'gen_model']['linear.weight'])\n",
    "plt.colorbar()"
   ]
  },
  {
   "cell_type": "code",
   "execution_count": null,
   "id": "b637c13d",
   "metadata": {},
   "outputs": [],
   "source": [
    "plt.matshow(inf_model.linear.weight.data)"
   ]
  }
 ],
 "metadata": {
  "kernelspec": {
   "display_name": "Python 3 (ipykernel)",
   "language": "python",
   "name": "python3"
  },
  "language_info": {
   "codemirror_mode": {
    "name": "ipython",
    "version": 3
   },
   "file_extension": ".py",
   "mimetype": "text/x-python",
   "name": "python",
   "nbconvert_exporter": "python",
   "pygments_lexer": "ipython3",
   "version": "3.9.12"
  }
 },
 "nbformat": 4,
 "nbformat_minor": 5
}
